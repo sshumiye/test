{
 "cells": [
  {
   "cell_type": "code",
   "execution_count": null,
   "metadata": {
    "collapsed": true
   },
   "outputs": [],
   "source": [
    "# gp of organized codes with a name and can be called using (). Reusable!"
   ]
  },
  {
   "cell_type": "code",
   "execution_count": null,
   "metadata": {
    "collapsed": true
   },
   "outputs": [],
   "source": [
    "def fn_name(arguments_parameters):\n",
    "    \"body of our fn code goes here\""
   ]
  },
  {
   "cell_type": "code",
   "execution_count": 1,
   "metadata": {
    "collapsed": true
   },
   "outputs": [],
   "source": [
    "def fn_name():\n",
    "    print \"body of our fn\""
   ]
  },
  {
   "cell_type": "code",
   "execution_count": 2,
   "metadata": {
    "collapsed": false
   },
   "outputs": [
    {
     "name": "stdout",
     "output_type": "stream",
     "text": [
      "body of our fn\n"
     ]
    }
   ],
   "source": [
    "fn_name()"
   ]
  },
  {
   "cell_type": "code",
   "execution_count": 3,
   "metadata": {
    "collapsed": false
   },
   "outputs": [
    {
     "name": "stdout",
     "output_type": "stream",
     "text": [
      "body goes here\n"
     ]
    }
   ],
   "source": [
    "def fn_name(x):\n",
    "    print \"body goes here\"\n",
    "    \n",
    "fn_name(4)"
   ]
  },
  {
   "cell_type": "code",
   "execution_count": 4,
   "metadata": {
    "collapsed": false
   },
   "outputs": [
    {
     "name": "stdout",
     "output_type": "stream",
     "text": [
      "body goes here\n"
     ]
    }
   ],
   "source": [
    "fn_name(8)"
   ]
  },
  {
   "cell_type": "code",
   "execution_count": 5,
   "metadata": {
    "collapsed": false
   },
   "outputs": [
    {
     "name": "stdout",
     "output_type": "stream",
     "text": [
      "body goes here\n"
     ]
    }
   ],
   "source": [
    "fn_name('a')"
   ]
  },
  {
   "cell_type": "code",
   "execution_count": 7,
   "metadata": {
    "collapsed": false
   },
   "outputs": [
    {
     "name": "stdout",
     "output_type": "stream",
     "text": [
      "body goes here\n"
     ]
    }
   ],
   "source": [
    "fn_name(\"arg\")"
   ]
  },
  {
   "cell_type": "code",
   "execution_count": 8,
   "metadata": {
    "collapsed": false
   },
   "outputs": [
    {
     "name": "stdout",
     "output_type": "stream",
     "text": [
      "7\n"
     ]
    }
   ],
   "source": [
    "def subtract(x, y):\n",
    "    print x - y\n",
    "    \n",
    "subtract(12, 5)"
   ]
  },
  {
   "cell_type": "code",
   "execution_count": 9,
   "metadata": {
    "collapsed": false
   },
   "outputs": [
    {
     "name": "stdout",
     "output_type": "stream",
     "text": [
      "-7\n"
     ]
    }
   ],
   "source": [
    "subtract(5, 12)"
   ]
  },
  {
   "cell_type": "code",
   "execution_count": 11,
   "metadata": {
    "collapsed": false
   },
   "outputs": [
    {
     "name": "stdout",
     "output_type": "stream",
     "text": [
      "hello Python\n"
     ]
    }
   ],
   "source": [
    "def greet(x):\n",
    "    print \"hello \" + x\n",
    "    \n",
    "greet(\"Python\")"
   ]
  },
  {
   "cell_type": "code",
   "execution_count": null,
   "metadata": {
    "collapsed": true
   },
   "outputs": [],
   "source": []
  },
  {
   "cell_type": "code",
   "execution_count": null,
   "metadata": {
    "collapsed": true
   },
   "outputs": [],
   "source": [
    "# It takes a python object and outputs a printed representation \n",
    "# of it in the output."
   ]
  },
  {
   "cell_type": "code",
   "execution_count": null,
   "metadata": {
    "collapsed": true
   },
   "outputs": [],
   "source": [
    "# A function that returns a value is producing a value for use by the program,\n",
    "# may be for use in the part of the code where the function was invoked"
   ]
  },
  {
   "cell_type": "code",
   "execution_count": null,
   "metadata": {
    "collapsed": true
   },
   "outputs": [],
   "source": []
  },
  {
   "cell_type": "markdown",
   "metadata": {},
   "source": [
    "# Print vs Return "
   ]
  },
  {
   "cell_type": "code",
   "execution_count": null,
   "metadata": {
    "collapsed": true
   },
   "outputs": [],
   "source": []
  },
  {
   "cell_type": "code",
   "execution_count": null,
   "metadata": {
    "collapsed": true
   },
   "outputs": [],
   "source": [
    "# It takes a python object and outputs a printed representation \n",
    "# of it in the output."
   ]
  },
  {
   "cell_type": "code",
   "execution_count": null,
   "metadata": {
    "collapsed": true
   },
   "outputs": [],
   "source": [
    "# A function that returns a value is producing a value for use by the program,\n",
    "# may be for use in the part of the code where the function was invoked.\n",
    "# can be saved in a var, print the result or even use it for other expressions..."
   ]
  },
  {
   "cell_type": "code",
   "execution_count": 14,
   "metadata": {
    "collapsed": false
   },
   "outputs": [
    {
     "name": "stdout",
     "output_type": "stream",
     "text": [
      "1\n"
     ]
    }
   ],
   "source": [
    "def subtract(x, y):\n",
    "    print x - y\n",
    "    \n",
    "a = subtract(4,3)"
   ]
  },
  {
   "cell_type": "code",
   "execution_count": 21,
   "metadata": {
    "collapsed": false
   },
   "outputs": [
    {
     "data": {
      "text/plain": [
       "1"
      ]
     },
     "execution_count": 21,
     "metadata": {},
     "output_type": "execute_result"
    }
   ],
   "source": [
    "def subtract(x, y):\n",
    "    return x - y\n",
    "\n",
    "subtract(4,3)"
   ]
  },
  {
   "cell_type": "code",
   "execution_count": 22,
   "metadata": {
    "collapsed": true
   },
   "outputs": [],
   "source": [
    "b = subtract(4,3)"
   ]
  },
  {
   "cell_type": "code",
   "execution_count": 23,
   "metadata": {
    "collapsed": false
   },
   "outputs": [
    {
     "data": {
      "text/plain": [
       "1"
      ]
     },
     "execution_count": 23,
     "metadata": {},
     "output_type": "execute_result"
    }
   ],
   "source": [
    "b"
   ]
  },
  {
   "cell_type": "code",
   "execution_count": 24,
   "metadata": {
    "collapsed": false
   },
   "outputs": [
    {
     "data": {
      "text/plain": [
       "9"
      ]
     },
     "execution_count": 24,
     "metadata": {},
     "output_type": "execute_result"
    }
   ],
   "source": [
    "b + 8"
   ]
  },
  {
   "cell_type": "code",
   "execution_count": 25,
   "metadata": {
    "collapsed": false
   },
   "outputs": [
    {
     "data": {
      "text/plain": [
       "2"
      ]
     },
     "execution_count": 25,
     "metadata": {},
     "output_type": "execute_result"
    }
   ],
   "source": [
    "b + b"
   ]
  },
  {
   "cell_type": "code",
   "execution_count": null,
   "metadata": {
    "collapsed": true
   },
   "outputs": [],
   "source": [
    "def greet(x):\n",
    "    print \"hello\" + x"
   ]
  },
  {
   "cell_type": "code",
   "execution_count": 27,
   "metadata": {
    "collapsed": false
   },
   "outputs": [],
   "source": [
    "def greet(x):\n",
    "    return x\n",
    "\n",
    "x = greet(\"Hi there\")"
   ]
  },
  {
   "cell_type": "code",
   "execution_count": 28,
   "metadata": {
    "collapsed": false
   },
   "outputs": [
    {
     "data": {
      "text/plain": [
       "'Hi there'"
      ]
     },
     "execution_count": 28,
     "metadata": {},
     "output_type": "execute_result"
    }
   ],
   "source": [
    "x"
   ]
  },
  {
   "cell_type": "code",
   "execution_count": 30,
   "metadata": {
    "collapsed": false
   },
   "outputs": [
    {
     "data": {
      "text/plain": [
       "'Hi there Python'"
      ]
     },
     "execution_count": 30,
     "metadata": {},
     "output_type": "execute_result"
    }
   ],
   "source": [
    "x + \" Python\""
   ]
  },
  {
   "cell_type": "code",
   "execution_count": null,
   "metadata": {
    "collapsed": true
   },
   "outputs": [],
   "source": []
  },
  {
   "cell_type": "code",
   "execution_count": null,
   "metadata": {
    "collapsed": true
   },
   "outputs": [],
   "source": []
  },
  {
   "cell_type": "code",
   "execution_count": null,
   "metadata": {
    "collapsed": true
   },
   "outputs": [],
   "source": []
  },
  {
   "cell_type": "code",
   "execution_count": null,
   "metadata": {
    "collapsed": true
   },
   "outputs": [],
   "source": []
  },
  {
   "cell_type": "code",
   "execution_count": null,
   "metadata": {
    "collapsed": true
   },
   "outputs": [],
   "source": []
  },
  {
   "cell_type": "code",
   "execution_count": null,
   "metadata": {
    "collapsed": true
   },
   "outputs": [],
   "source": []
  },
  {
   "cell_type": "code",
   "execution_count": null,
   "metadata": {
    "collapsed": true
   },
   "outputs": [],
   "source": []
  },
  {
   "cell_type": "code",
   "execution_count": 31,
   "metadata": {
    "collapsed": false
   },
   "outputs": [
    {
     "name": "stdout",
     "output_type": "stream",
     "text": [
      "hello Python\n"
     ]
    }
   ],
   "source": [
    "def greet(x):\n",
    "    print \"hello\" + x\n",
    "    \n",
    "greet(\" Python\")"
   ]
  },
  {
   "cell_type": "code",
   "execution_count": 32,
   "metadata": {
    "collapsed": false
   },
   "outputs": [
    {
     "name": "stdout",
     "output_type": "stream",
     "text": [
      "hello Python\n"
     ]
    }
   ],
   "source": [
    "y = greet(\" Python\")"
   ]
  },
  {
   "cell_type": "code",
   "execution_count": 33,
   "metadata": {
    "collapsed": true
   },
   "outputs": [],
   "source": [
    "y"
   ]
  },
  {
   "cell_type": "code",
   "execution_count": null,
   "metadata": {
    "collapsed": true
   },
   "outputs": [],
   "source": []
  },
  {
   "cell_type": "code",
   "execution_count": null,
   "metadata": {
    "collapsed": true
   },
   "outputs": [],
   "source": []
  },
  {
   "cell_type": "code",
   "execution_count": null,
   "metadata": {
    "collapsed": true
   },
   "outputs": [],
   "source": [
    "# write a function that prints odd numbers from a given list"
   ]
  },
  {
   "cell_type": "code",
   "execution_count": 37,
   "metadata": {
    "collapsed": false
   },
   "outputs": [
    {
     "name": "stdout",
     "output_type": "stream",
     "text": [
      "Here are the odd numbers: \n",
      "1\n",
      "3\n",
      "5\n",
      "7\n",
      "9\n",
      "11\n",
      "13\n"
     ]
    }
   ],
   "source": [
    "def print_odd(x):\n",
    "    for i in range(1, x, 2):\n",
    "        print i\n",
    "\n",
    "print \"Here are the odd numbers: \"        \n",
    "print_odd(15)"
   ]
  },
  {
   "cell_type": "code",
   "execution_count": 40,
   "metadata": {
    "collapsed": false
   },
   "outputs": [
    {
     "name": "stdout",
     "output_type": "stream",
     "text": [
      "1\n",
      "3\n",
      "5\n",
      "7\n",
      "9\n",
      "11\n",
      "13\n",
      "15\n",
      "17\n",
      "19\n"
     ]
    }
   ],
   "source": [
    "print_odd(20)"
   ]
  },
  {
   "cell_type": "code",
   "execution_count": null,
   "metadata": {
    "collapsed": true
   },
   "outputs": [],
   "source": []
  },
  {
   "cell_type": "code",
   "execution_count": null,
   "metadata": {
    "collapsed": true
   },
   "outputs": [],
   "source": [
    "# write a function that prompts a user to enter two integers and add those integers and display\n",
    "# the result"
   ]
  },
  {
   "cell_type": "code",
   "execution_count": 41,
   "metadata": {
    "collapsed": true
   },
   "outputs": [],
   "source": [
    "def add():\n",
    "    num = int(raw_input(\"enter an integer: \"))  # input(\"...\")\n",
    "    return num"
   ]
  },
  {
   "cell_type": "code",
   "execution_count": 42,
   "metadata": {
    "collapsed": false
   },
   "outputs": [
    {
     "name": "stdout",
     "output_type": "stream",
     "text": [
      "enter an integer: 4\n"
     ]
    },
    {
     "data": {
      "text/plain": [
       "4"
      ]
     },
     "execution_count": 42,
     "metadata": {},
     "output_type": "execute_result"
    }
   ],
   "source": [
    "add()"
   ]
  },
  {
   "cell_type": "code",
   "execution_count": 45,
   "metadata": {
    "collapsed": false
   },
   "outputs": [
    {
     "name": "stdout",
     "output_type": "stream",
     "text": [
      "this function will add two integers\n",
      "enter an integer: 2\n",
      "enter an integer: 5\n",
      "The sum of the two integers is: 7\n"
     ]
    }
   ],
   "source": [
    "print \"this function will add two integers\"\n",
    "\n",
    "first_integer = add()\n",
    "second_integer = add()\n",
    "result = first_integer + second_integer\n",
    "\n",
    "print \"The sum of the two integers is: \" + str(result)"
   ]
  },
  {
   "cell_type": "code",
   "execution_count": null,
   "metadata": {
    "collapsed": true
   },
   "outputs": [],
   "source": []
  },
  {
   "cell_type": "markdown",
   "metadata": {
    "collapsed": true
   },
   "source": [
    "# Arguments in Functions !"
   ]
  },
  {
   "cell_type": "code",
   "execution_count": null,
   "metadata": {
    "collapsed": true
   },
   "outputs": [],
   "source": [
    "# Required argu\n",
    "# Keyword arg\n",
    "# default arg\n",
    "# Flexible (var-length) arg"
   ]
  },
  {
   "cell_type": "code",
   "execution_count": null,
   "metadata": {
    "collapsed": true
   },
   "outputs": [],
   "source": [
    "def fn_name(argu):"
   ]
  },
  {
   "cell_type": "code",
   "execution_count": 1,
   "metadata": {
    "collapsed": false
   },
   "outputs": [
    {
     "name": "stdout",
     "output_type": "stream",
     "text": [
      "John\n",
      "45\n",
      "NY\n"
     ]
    }
   ],
   "source": [
    "def Person(name, age, state):\n",
    "    print name\n",
    "    print age\n",
    "    print state\n",
    "    \n",
    "Person(name=\"John\", age=45, state=\"NY\")"
   ]
  },
  {
   "cell_type": "code",
   "execution_count": 2,
   "metadata": {
    "collapsed": false
   },
   "outputs": [
    {
     "name": "stdout",
     "output_type": "stream",
     "text": [
      "2\n"
     ]
    }
   ],
   "source": [
    "def subtract(num1, num2):\n",
    "    print num1 - num2\n",
    "    \n",
    "subtract(num1 = 9, num2 = 7)"
   ]
  },
  {
   "cell_type": "code",
   "execution_count": null,
   "metadata": {
    "collapsed": true
   },
   "outputs": [],
   "source": [
    "# default arg"
   ]
  },
  {
   "cell_type": "code",
   "execution_count": 9,
   "metadata": {
    "collapsed": false
   },
   "outputs": [
    {
     "name": "stdout",
     "output_type": "stream",
     "text": [
      "Jane\n",
      "33\n",
      "NY\n"
     ]
    }
   ],
   "source": [
    "def Person(age, name=\"Jane\",state=\"NY\"):\n",
    "    print name\n",
    "    print age\n",
    "    print state\n",
    "    \n",
    "Person(age=33)"
   ]
  },
  {
   "cell_type": "code",
   "execution_count": 7,
   "metadata": {
    "collapsed": false
   },
   "outputs": [
    {
     "name": "stdout",
     "output_type": "stream",
     "text": [
      "JOHN\n",
      "34\n",
      "NJ\n"
     ]
    }
   ],
   "source": [
    "Person(name=\"JOHN\", age=34, state=\"NJ\")"
   ]
  },
  {
   "cell_type": "code",
   "execution_count": 13,
   "metadata": {
    "collapsed": false
   },
   "outputs": [
    {
     "name": "stdout",
     "output_type": "stream",
     "text": [
      "2\n"
     ]
    }
   ],
   "source": [
    "def subtract(num1, num2, num3=2):\n",
    "    print num1 - num2 - num3\n",
    "    \n",
    "subtract(num2=3, num1=7)"
   ]
  },
  {
   "cell_type": "code",
   "execution_count": 22,
   "metadata": {
    "collapsed": false
   },
   "outputs": [
    {
     "name": "stdout",
     "output_type": "stream",
     "text": [
      "3\n",
      "2\n",
      "4\n",
      "5\n",
      "a\n",
      "b\n"
     ]
    }
   ],
   "source": [
    "def x(arg, *vararg, **more):\n",
    "    print arg\n",
    "    for i in vararg:\n",
    "        print i\n",
    "    for i in more:\n",
    "        print i\n",
    "        #print j\n",
    "        \n",
    "        \n",
    "x(3,2,4,5, a=8, b=9)"
   ]
  },
  {
   "cell_type": "code",
   "execution_count": 25,
   "metadata": {
    "collapsed": true
   },
   "outputs": [],
   "source": [
    "x = 6\n",
    "\n",
    "def example2():\n",
    "    # works\n",
    "    \n",
    "    print(x)\n",
    "    print(x+5)\n",
    "\n",
    "    # but then what happens when we go to modify:\n",
    "    #x+=6"
   ]
  },
  {
   "cell_type": "code",
   "execution_count": 26,
   "metadata": {
    "collapsed": false
   },
   "outputs": [
    {
     "name": "stdout",
     "output_type": "stream",
     "text": [
      "6\n",
      "11\n"
     ]
    }
   ],
   "source": [
    "example2()"
   ]
  },
  {
   "cell_type": "code",
   "execution_count": 38,
   "metadata": {
    "collapsed": false
   },
   "outputs": [
    {
     "name": "stdout",
     "output_type": "stream",
     "text": [
      "6\n",
      "11\n"
     ]
    }
   ],
   "source": [
    "x = 6\n",
    "\n",
    "def example():\n",
    "    # works\n",
    "    global x\n",
    "    print(x)\n",
    "    print(x+5)\n",
    "\n",
    "    # but then what happens when we go to modify:\n",
    "    x+=6\n",
    "    \n",
    "example()"
   ]
  },
  {
   "cell_type": "code",
   "execution_count": 28,
   "metadata": {
    "collapsed": false
   },
   "outputs": [
    {
     "name": "stdout",
     "output_type": "stream",
     "text": [
      "12\n"
     ]
    }
   ],
   "source": [
    "print x"
   ]
  },
  {
   "cell_type": "code",
   "execution_count": 32,
   "metadata": {
    "collapsed": false
   },
   "outputs": [
    {
     "name": "stdout",
     "output_type": "stream",
     "text": [
      "formal arg: 1\n",
      "another keyword arg: myarg2 =two\n",
      "another keyword arg: myarg3 =3\n"
     ]
    }
   ],
   "source": [
    "def test_var_kwargs(farg, **kwargs):\n",
    "    print \"formal arg:\", farg\n",
    "    for key in kwargs:\n",
    "        print \"another keyword arg: {} = {}\".format(key, kwargs[key])\n",
    "\n",
    "test_var_kwargs(farg=1, myarg2=\"two\", myarg3=3)"
   ]
  },
  {
   "cell_type": "code",
   "execution_count": 37,
   "metadata": {
    "collapsed": false
   },
   "outputs": [
    {
     "name": "stdout",
     "output_type": "stream",
     "text": [
      "formal arg: 1\n",
      "another arg: two\n",
      "another arg: 3\n",
      "another arg: {'key1': 4}\n",
      "another keyword arg: y = 7\n",
      "another keyword arg: x = 5\n",
      "another keyword arg: z = hi\n"
     ]
    }
   ],
   "source": [
    "def test_var_args(farg, *args, **kwargs):\n",
    "    print \"formal arg:\", farg\n",
    "    for arg in args:\n",
    "        print \"another arg:\", arg\n",
    "    for key in kwargs:\n",
    "        print \"another keyword arg: {} = {}\".format(key, kwargs[key])\n",
    "\n",
    "test_var_args(1, \"two\", 3, x=5, y=7, z='hi')"
   ]
  },
  {
   "cell_type": "code",
   "execution_count": null,
   "metadata": {
    "collapsed": true
   },
   "outputs": [],
   "source": []
  },
  {
   "cell_type": "code",
   "execution_count": null,
   "metadata": {
    "collapsed": true
   },
   "outputs": [],
   "source": []
  },
  {
   "cell_type": "code",
   "execution_count": null,
   "metadata": {
    "collapsed": true
   },
   "outputs": [],
   "source": []
  },
  {
   "cell_type": "code",
   "execution_count": null,
   "metadata": {
    "collapsed": true
   },
   "outputs": [],
   "source": []
  },
  {
   "cell_type": "code",
   "execution_count": null,
   "metadata": {
    "collapsed": true
   },
   "outputs": [],
   "source": []
  },
  {
   "cell_type": "code",
   "execution_count": null,
   "metadata": {
    "collapsed": true
   },
   "outputs": [],
   "source": []
  },
  {
   "cell_type": "code",
   "execution_count": null,
   "metadata": {
    "collapsed": true
   },
   "outputs": [],
   "source": []
  },
  {
   "cell_type": "code",
   "execution_count": null,
   "metadata": {
    "collapsed": true
   },
   "outputs": [],
   "source": []
  },
  {
   "cell_type": "code",
   "execution_count": null,
   "metadata": {
    "collapsed": true
   },
   "outputs": [],
   "source": []
  },
  {
   "cell_type": "markdown",
   "metadata": {
    "collapsed": true
   },
   "source": [
    "# Variable length arguments"
   ]
  },
  {
   "cell_type": "code",
   "execution_count": null,
   "metadata": {
    "collapsed": true
   },
   "outputs": [],
   "source": []
  },
  {
   "cell_type": "code",
   "execution_count": null,
   "metadata": {
    "collapsed": true
   },
   "outputs": [],
   "source": [
    "# A single asterisk (*) is used to pass a non-keyworded, variable-length argument list, and \n",
    "# the double asterisk (**) form is used to pass a keyworded, variable-length argument list."
   ]
  },
  {
   "cell_type": "code",
   "execution_count": 50,
   "metadata": {
    "collapsed": false
   },
   "outputs": [],
   "source": [
    "import math \n",
    "from __future__ import division"
   ]
  },
  {
   "cell_type": "code",
   "execution_count": 44,
   "metadata": {
    "collapsed": true
   },
   "outputs": [],
   "source": [
    "def ratio(arg1, *args):\n",
    "    return (arg1 + sum(args))/ (len(args)) # (2 + 4 + 6 + 8)/ 3"
   ]
  },
  {
   "cell_type": "code",
   "execution_count": 46,
   "metadata": {
    "collapsed": false
   },
   "outputs": [
    {
     "data": {
      "text/plain": [
       "6.0"
      ]
     },
     "execution_count": 46,
     "metadata": {},
     "output_type": "execute_result"
    }
   ],
   "source": [
    "ratio(2,4) "
   ]
  },
  {
   "cell_type": "code",
   "execution_count": 47,
   "metadata": {
    "collapsed": false
   },
   "outputs": [
    {
     "data": {
      "text/plain": [
       "6.666666666666667"
      ]
     },
     "execution_count": 47,
     "metadata": {},
     "output_type": "execute_result"
    }
   ],
   "source": [
    "ratio(2,4,6,8)"
   ]
  },
  {
   "cell_type": "code",
   "execution_count": 51,
   "metadata": {
    "collapsed": false
   },
   "outputs": [
    {
     "data": {
      "text/plain": [
       "6.833333333333333"
      ]
     },
     "execution_count": 51,
     "metadata": {},
     "output_type": "execute_result"
    }
   ],
   "source": [
    "ratio(2,4,5,6,7,8,9)"
   ]
  },
  {
   "cell_type": "code",
   "execution_count": 52,
   "metadata": {
    "collapsed": false
   },
   "outputs": [
    {
     "ename": "TypeError",
     "evalue": "ratio() takes at least 1 argument (0 given)",
     "output_type": "error",
     "traceback": [
      "\u001b[0;31m---------------------------------------------------------------------------\u001b[0m",
      "\u001b[0;31mTypeError\u001b[0m                                 Traceback (most recent call last)",
      "\u001b[0;32m<ipython-input-52-9cf6e4414474>\u001b[0m in \u001b[0;36m<module>\u001b[0;34m()\u001b[0m\n\u001b[0;32m----> 1\u001b[0;31m \u001b[0mratio\u001b[0m\u001b[0;34m(\u001b[0m\u001b[0;34m)\u001b[0m\u001b[0;34m\u001b[0m\u001b[0m\n\u001b[0m",
      "\u001b[0;31mTypeError\u001b[0m: ratio() takes at least 1 argument (0 given)"
     ]
    }
   ],
   "source": [
    "ratio()"
   ]
  },
  {
   "cell_type": "code",
   "execution_count": 56,
   "metadata": {
    "collapsed": true
   },
   "outputs": [],
   "source": [
    "def various_args(arg1, *args):\n",
    "    print \"first argument is: \", arg1\n",
    "    \n",
    "    for arg in args:\n",
    "        print \"here are the non keyword var length argu: \", arg"
   ]
  },
  {
   "cell_type": "code",
   "execution_count": 54,
   "metadata": {
    "collapsed": false
   },
   "outputs": [
    {
     "name": "stdout",
     "output_type": "stream",
     "text": [
      "first argument is:  2\n"
     ]
    }
   ],
   "source": [
    "various_args(2)"
   ]
  },
  {
   "cell_type": "code",
   "execution_count": 55,
   "metadata": {
    "collapsed": false
   },
   "outputs": [
    {
     "name": "stdout",
     "output_type": "stream",
     "text": [
      "first argument is:  2\n",
      "here are the non keywor var length argu:  4\n",
      "here are the non keywor var length argu:  6\n"
     ]
    }
   ],
   "source": [
    "various_args(2, 4, 6)"
   ]
  },
  {
   "cell_type": "code",
   "execution_count": 57,
   "metadata": {
    "collapsed": false
   },
   "outputs": [
    {
     "name": "stdout",
     "output_type": "stream",
     "text": [
      "first argument is:  2\n",
      "here are the non keyword var length argu:  3\n",
      "here are the non keyword var length argu:  a\n",
      "here are the non keyword var length argu:  c\n",
      "here are the non keyword var length argu:  python\n",
      "here are the non keyword var length argu:  x\n",
      "here are the non keyword var length argu:  4\n",
      "here are the non keyword var length argu:  5\n"
     ]
    }
   ],
   "source": [
    " various_args(2,3,\"a\",\"c\",\"python\",\"x\",4,5)"
   ]
  },
  {
   "cell_type": "code",
   "execution_count": null,
   "metadata": {
    "collapsed": true
   },
   "outputs": [],
   "source": []
  },
  {
   "cell_type": "code",
   "execution_count": 63,
   "metadata": {
    "collapsed": true
   },
   "outputs": [],
   "source": [
    "def kwargs(arg1, **kwargs):   # arg= value\n",
    "    print \"first argument is: \", arg1\n",
    "    \n",
    "    for key in kwargs:\n",
    "        print \"keyword variable length argument {} = {} \".format(key, kwargs[key])\n",
    "        "
   ]
  },
  {
   "cell_type": "code",
   "execution_count": 64,
   "metadata": {
    "collapsed": false
   },
   "outputs": [
    {
     "name": "stdout",
     "output_type": "stream",
     "text": [
      "first argument is:  1\n",
      "keyword variable length argument y = 5 \n",
      "keyword variable length argument x = 3 \n",
      "keyword variable length argument b = programming \n",
      "keyword variable length argument a = python \n"
     ]
    }
   ],
   "source": [
    "kwargs(1, x=3, y=5, a=\"python\", b=\"programming\")"
   ]
  },
  {
   "cell_type": "code",
   "execution_count": 65,
   "metadata": {
    "collapsed": true
   },
   "outputs": [],
   "source": [
    "def kwar(arg1, **kw):   # arg= value\n",
    "    print \"first argument is: \", arg1\n",
    "    \n",
    "    for i in kw:\n",
    "        print \"keyword variable length argument {} = {} \".format(i, kw[i])"
   ]
  },
  {
   "cell_type": "code",
   "execution_count": 66,
   "metadata": {
    "collapsed": false
   },
   "outputs": [
    {
     "name": "stdout",
     "output_type": "stream",
     "text": [
      "first argument is:  python\n",
      "keyword variable length argument y = 5 \n",
      "keyword variable length argument x = programming \n",
      "keyword variable length argument z = 8 \n"
     ]
    }
   ],
   "source": [
    "kwar(\"python\", x=\"programming\", y=5, z=8)"
   ]
  },
  {
   "cell_type": "code",
   "execution_count": null,
   "metadata": {
    "collapsed": true
   },
   "outputs": [],
   "source": []
  },
  {
   "cell_type": "code",
   "execution_count": 67,
   "metadata": {
    "collapsed": true
   },
   "outputs": [],
   "source": [
    "def all_args(arg1, *args, **kwargs):\n",
    "    print \"first argument is: \", arg1\n",
    "    \n",
    "    for arg in args:\n",
    "        print \"here are the non keyword var leng argu: \", arg\n",
    "        \n",
    "    for key in kwargs:\n",
    "        print \"here are the keyword var leng argu: {} = {}\".format(key, kwargs[key])"
   ]
  },
  {
   "cell_type": "code",
   "execution_count": 68,
   "metadata": {
    "collapsed": false
   },
   "outputs": [
    {
     "name": "stdout",
     "output_type": "stream",
     "text": [
      "first argument is:  1\n",
      "here are the non keyword var leng argu:  3\n",
      "here are the non keyword var leng argu:  5\n",
      "here are the non keyword var leng argu:  7\n",
      "here are the non keyword var leng argu:  four\n",
      "here are the non keyword var leng argu:  six\n",
      "here are the keyword var leng argu: y = programming\n",
      "here are the keyword var leng argu: x = python\n",
      "here are the keyword var leng argu: z = keyword argument\n"
     ]
    }
   ],
   "source": [
    "all_args(1,3,5,7,\"four\",\"six\", x=\"python\", y=\"programming\", z=\"keyword argument\")"
   ]
  },
  {
   "cell_type": "code",
   "execution_count": 69,
   "metadata": {
    "collapsed": false
   },
   "outputs": [
    {
     "name": "stdout",
     "output_type": "stream",
     "text": [
      "first argument is:  python\n"
     ]
    }
   ],
   "source": [
    "all_args(\"python\")"
   ]
  },
  {
   "cell_type": "code",
   "execution_count": null,
   "metadata": {
    "collapsed": true
   },
   "outputs": [],
   "source": []
  },
  {
   "cell_type": "code",
   "execution_count": 72,
   "metadata": {
    "collapsed": true
   },
   "outputs": [],
   "source": [
    "def aargs(arg1, *args, **kwargs):\n",
    "    print \"first argument is: \", arg1\n",
    "    \n",
    "    for arg in args:\n",
    "        print \"here are the non keyword var leng argu: \", arg\n",
    "        \n",
    "    for key in kwargs:\n",
    "        print \"here are the keyword var leng argu: {} = {}\".format(key, kwargs[key])"
   ]
  },
  {
   "cell_type": "code",
   "execution_count": 74,
   "metadata": {
    "collapsed": false
   },
   "outputs": [
    {
     "name": "stdout",
     "output_type": "stream",
     "text": [
      "first argument is:  2\n",
      "here are the non keyword var leng argu:  4\n",
      "here are the non keyword var leng argu:  5\n",
      "here are the non keyword var leng argu:  8\n",
      "here are the non keyword var leng argu:  10\n",
      "here are the keyword var leng argu: a = python\n"
     ]
    }
   ],
   "source": [
    "aargs(2,4,5,8,10, a=\"python\")\n"
   ]
  },
  {
   "cell_type": "code",
   "execution_count": null,
   "metadata": {
    "collapsed": true
   },
   "outputs": [],
   "source": []
  },
  {
   "cell_type": "code",
   "execution_count": null,
   "metadata": {
    "collapsed": true
   },
   "outputs": [],
   "source": []
  },
  {
   "cell_type": "markdown",
   "metadata": {
    "collapsed": true
   },
   "source": [
    "# The main( ) function"
   ]
  },
  {
   "cell_type": "code",
   "execution_count": null,
   "metadata": {
    "collapsed": true
   },
   "outputs": [],
   "source": [
    "# we place all of our statements we have not placed within our function definition in\n",
    "# the main function..\n",
    "# at the end, we call the main( ) fn which will inturn call other functions"
   ]
  },
  {
   "cell_type": "code",
   "execution_count": null,
   "metadata": {
    "collapsed": true
   },
   "outputs": [],
   "source": []
  },
  {
   "cell_type": "code",
   "execution_count": 103,
   "metadata": {
    "collapsed": false
   },
   "outputs": [
    {
     "name": "stdout",
     "output_type": "stream",
     "text": [
      "before the add2 function is called, value of x is:  3\n",
      "after the add2 function is called, value of x is:  5\n",
      "--------------------------------------------------------\n",
      "before the add2 function is called, value of x is:  7\n",
      "after the add2 function is called, value of x is:  9\n",
      "--------------------------------------------------------\n",
      "before the add2 function is called, value of x is:  22\n",
      "after the add2 function is called, value of x is:  24\n"
     ]
    }
   ],
   "source": [
    "def add2(x):\n",
    "    print \"before the add2 function is called, value of x is: \", x\n",
    "    x += 2\n",
    "    print \"after the add2 function is called, value of x is: \", x\n",
    "    \n",
    "def main():\n",
    "    x = 3\n",
    "    add2(x)\n",
    "    print \"----\" * 14\n",
    "    x = 7\n",
    "    add2(x)\n",
    "    print \"----\" * 14\n",
    "    x = 22\n",
    "    add2(x)\n",
    "    \n",
    "main()"
   ]
  },
  {
   "cell_type": "code",
   "execution_count": 104,
   "metadata": {
    "collapsed": false
   },
   "outputs": [
    {
     "name": "stdout",
     "output_type": "stream",
     "text": [
      "before our add2 fn.... 3\n",
      "before the add2 function is called, value of x is:  3\n",
      "after the add2 function is called, value of x is:  5\n",
      "after our add2 fn... 3\n"
     ]
    }
   ],
   "source": [
    "def add2(x):\n",
    "    print \"before the add2 function is called, value of x is: \", x\n",
    "    x += 2\n",
    "    print \"after the add2 function is called, value of x is: \", x\n",
    "    \n",
    "def main():\n",
    "    x = 3\n",
    "    print \"before our add2 fn....\", x\n",
    "    add2(x)\n",
    "    print \"after our add2 fn...\", x\n",
    "\n",
    "    \n",
    "main()"
   ]
  },
  {
   "cell_type": "code",
   "execution_count": 105,
   "metadata": {
    "collapsed": false
   },
   "outputs": [
    {
     "name": "stdout",
     "output_type": "stream",
     "text": [
      "before our add2 fn... 3\n",
      "before the add2 function is called, value of x is:  3\n",
      "after the add2 function is called, value of x is:  5\n",
      "after our add2 fn... 3\n",
      "--------------------------------------------------------\n",
      "before our add2 fn... 7\n",
      "before the add2 function is called, value of x is:  7\n",
      "after the add2 function is called, value of x is:  9\n",
      "after our add2 fn... 7\n",
      "--------------------------------------------------------\n",
      "before our add2 fn... 22\n",
      "before the add2 function is called, value of x is:  22\n",
      "after the add2 function is called, value of x is:  24\n",
      "after our add2 fn... 22\n",
      "--------------------------------------------------------\n"
     ]
    }
   ],
   "source": [
    "def add2(x):\n",
    "    print \"before the add2 function is called, value of x is: \", x\n",
    "    x += 2\n",
    "    print \"after the add2 function is called, value of x is: \", x\n",
    "    \n",
    "def main():\n",
    "    x = 3\n",
    "    print \"before our add2 fn...\", x\n",
    "    add2(x)\n",
    "    print \"after our add2 fn...\", x\n",
    "    print \"----\" * 14\n",
    "    x = 7\n",
    "    print \"before our add2 fn...\", x\n",
    "    add2(x)\n",
    "    print \"after our add2 fn...\", x\n",
    "    print \"----\" * 14\n",
    "    x = 22\n",
    "    print \"before our add2 fn...\", x\n",
    "    add2(x)\n",
    "    print \"after our add2 fn...\", x\n",
    "    print \"----\" * 14\n",
    "    \n",
    "main()\n"
   ]
  },
  {
   "cell_type": "code",
   "execution_count": 109,
   "metadata": {
    "collapsed": false
   },
   "outputs": [
    {
     "name": "stdout",
     "output_type": "stream",
     "text": [
      "|----------|\n",
      "|*  *   *  |\n",
      "|*  *      |\n",
      "|--------- |\n"
     ]
    }
   ],
   "source": [
    "print \"|----------|\"\n",
    "print \"|*  *   *  |\"\n",
    "print \"|*  *      |\"\n",
    "print \"|--------- |\""
   ]
  },
  {
   "cell_type": "code",
   "execution_count": null,
   "metadata": {
    "collapsed": true
   },
   "outputs": [],
   "source": []
  },
  {
   "cell_type": "code",
   "execution_count": null,
   "metadata": {
    "collapsed": true
   },
   "outputs": [],
   "source": []
  },
  {
   "cell_type": "code",
   "execution_count": null,
   "metadata": {
    "collapsed": true
   },
   "outputs": [],
   "source": []
  },
  {
   "cell_type": "code",
   "execution_count": null,
   "metadata": {
    "collapsed": true
   },
   "outputs": [],
   "source": []
  },
  {
   "cell_type": "code",
   "execution_count": null,
   "metadata": {
    "collapsed": true
   },
   "outputs": [],
   "source": []
  },
  {
   "cell_type": "code",
   "execution_count": null,
   "metadata": {
    "collapsed": true
   },
   "outputs": [],
   "source": []
  },
  {
   "cell_type": "code",
   "execution_count": null,
   "metadata": {
    "collapsed": true
   },
   "outputs": [],
   "source": []
  },
  {
   "cell_type": "code",
   "execution_count": null,
   "metadata": {
    "collapsed": true
   },
   "outputs": [],
   "source": []
  },
  {
   "cell_type": "code",
   "execution_count": null,
   "metadata": {
    "collapsed": true
   },
   "outputs": [],
   "source": []
  },
  {
   "cell_type": "code",
   "execution_count": null,
   "metadata": {
    "collapsed": true
   },
   "outputs": [],
   "source": []
  },
  {
   "cell_type": "code",
   "execution_count": null,
   "metadata": {
    "collapsed": true
   },
   "outputs": [],
   "source": []
  },
  {
   "cell_type": "code",
   "execution_count": null,
   "metadata": {
    "collapsed": true
   },
   "outputs": [],
   "source": []
  },
  {
   "cell_type": "code",
   "execution_count": null,
   "metadata": {
    "collapsed": true
   },
   "outputs": [],
   "source": []
  },
  {
   "cell_type": "code",
   "execution_count": null,
   "metadata": {
    "collapsed": true
   },
   "outputs": [],
   "source": []
  },
  {
   "cell_type": "code",
   "execution_count": null,
   "metadata": {
    "collapsed": true
   },
   "outputs": [],
   "source": []
  },
  {
   "cell_type": "code",
   "execution_count": null,
   "metadata": {
    "collapsed": true
   },
   "outputs": [],
   "source": []
  },
  {
   "cell_type": "code",
   "execution_count": null,
   "metadata": {
    "collapsed": true
   },
   "outputs": [],
   "source": []
  },
  {
   "cell_type": "code",
   "execution_count": null,
   "metadata": {
    "collapsed": true
   },
   "outputs": [],
   "source": []
  },
  {
   "cell_type": "code",
   "execution_count": null,
   "metadata": {
    "collapsed": true
   },
   "outputs": [],
   "source": []
  },
  {
   "cell_type": "code",
   "execution_count": null,
   "metadata": {
    "collapsed": true
   },
   "outputs": [],
   "source": []
  }
 ],
 "metadata": {
  "kernelspec": {
   "display_name": "Python 2",
   "language": "python",
   "name": "python2"
  },
  "language_info": {
   "codemirror_mode": {
    "name": "ipython",
    "version": 2
   },
   "file_extension": ".py",
   "mimetype": "text/x-python",
   "name": "python",
   "nbconvert_exporter": "python",
   "pygments_lexer": "ipython2",
   "version": "2.7.12"
  }
 },
 "nbformat": 4,
 "nbformat_minor": 0
}
